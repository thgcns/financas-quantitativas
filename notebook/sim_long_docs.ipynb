{
 "cells": [
  {
   "attachments": {},
   "cell_type": "markdown",
   "metadata": {},
   "source": [
    "# Similaridade entre textos longos\n",
    "\n",
    "Usamos o [Longformer](https://huggingface.co/docs/transformers/model_doc/longformer) para processar textos longos, com mais de 512 tokens."
   ]
  },
  {
   "cell_type": "code",
   "execution_count": 1,
   "metadata": {},
   "outputs": [],
   "source": [
    "from transformers import LongformerModel, LongformerTokenizer\n",
    "import torch\n",
    "import numpy as np"
   ]
  },
  {
   "cell_type": "code",
   "execution_count": 2,
   "metadata": {},
   "outputs": [
    {
     "name": "stderr",
     "output_type": "stream",
     "text": [
      "Some weights of the model checkpoint at allenai/longformer-base-4096 were not used when initializing LongformerModel: ['lm_head.dense.weight', 'lm_head.decoder.weight', 'lm_head.dense.bias', 'lm_head.layer_norm.weight', 'lm_head.layer_norm.bias', 'lm_head.bias']\n",
      "- This IS expected if you are initializing LongformerModel from the checkpoint of a model trained on another task or with another architecture (e.g. initializing a BertForSequenceClassification model from a BertForPreTraining model).\n",
      "- This IS NOT expected if you are initializing LongformerModel from the checkpoint of a model that you expect to be exactly identical (initializing a BertForSequenceClassification model from a BertForSequenceClassification model).\n"
     ]
    }
   ],
   "source": [
    "# Carrega o modelo pré-treinado do Longformer\n",
    "model_name = 'allenai/longformer-base-4096'\n",
    "tokenizer = LongformerTokenizer.from_pretrained(model_name)\n",
    "model = LongformerModel.from_pretrained(model_name)"
   ]
  },
  {
   "cell_type": "code",
   "execution_count": 3,
   "metadata": {},
   "outputs": [],
   "source": [
    "# Função para obter o vetor de embedding do texto\n",
    "def get_embedding(text):\n",
    "    # Tokeniza o texto e converte para tensores\n",
    "    input_ids = torch.tensor(tokenizer.encode(text)).unsqueeze(0)\n",
    "    print(f\"Tamanho do token vector: {input_ids.shape}\")\n",
    "    \n",
    "    # Passa o texto pelo modelo para obter os embeddings\n",
    "    outputs = model(input_ids)\n",
    "    last_hidden_state = outputs.last_hidden_state\n",
    "    \n",
    "    # Reduz a dimensão do embedding para obter um vetor único\n",
    "    embedding = torch.mean(last_hidden_state, dim=1).squeeze()\n",
    "    \n",
    "    return embedding"
   ]
  },
  {
   "cell_type": "code",
   "execution_count": 4,
   "metadata": {},
   "outputs": [],
   "source": [
    "# Função para calcular a similaridade entre dois embeddings\n",
    "def calculate_similarity(embedding1, embedding2):\n",
    "    return torch.cosine_similarity(embedding1, embedding2, -1)"
   ]
  },
  {
   "cell_type": "code",
   "execution_count": 5,
   "metadata": {},
   "outputs": [
    {
     "name": "stdout",
     "output_type": "stream",
     "text": [
      "Tamanho do texto: \n",
      "Plastics are a wide range of synthetic or semi-synthetic materials that use polymers as a main ingredient. Their plasticity makes it possible for plastics to be moulded, extruded or pressed into solid objects of various shapes. This adaptability, plus a wide range of other properties, such as being lightweight, durable, flexible, and inexpensive to produce, has led to its widespread use. Plastics typically are made through human industrial systems. Most modern plastics are derived from fossil fuel-based chemicals like natural gas or petroleum; however, recent industrial methods use variants made from renewable materials, such as corn or cotton derivatives.[1]\n",
      "\n",
      "9.2 billion tonnes of plastic are estimated to have been made between 1950 and 2017. More than half this plastic has been produced since 2004. In 2020, 400 million tonnes of plastic were produced.[2] If global trends on plastic demand continue, it is estimated that by 2050 annual global plastic production will reach over 1,100 million tonnes.\n",
      "\n",
      "The success and dominance of plastics starting in the early 20th century has caused widespread environmental problems,[3] due to their slow decomposition rate in natural ecosystems. Most plastic produced has not been reused, either being captured in landfills or persisting in the environment as plastic pollution. Plastic pollution can be found in all the world's major water bodies, for example, creating garbage patches in all of the world's oceans and contaminating terrestrial ecosystems. Of all the plastic discarded so far, some 14 \\% has been incinerated and less than 10\\% has been recycled.[2]\n",
      "\n",
      "In developed economies, about a third of plastic is used in packaging and roughly the same in buildings in applications such as piping, plumbing or vinyl siding.[4] Other uses include automobiles (up to 20% plastic[4]), furniture, and toys.[4] In the developing world, the applications of plastic may differ; 42\\% of India's consumption is used in packaging.[4] In the medical field, polymer implants and other medical devices are derived at least partially from plastic. Worldwide, about 50 kg of plastic is produced annually per person, with production doubling every ten years.\n",
      "\n",
      "The world's first fully synthetic plastic was Bakelite, invented in New York in 1907, by Leo Baekeland,[5] who coined the term \"plastics\".[6] Dozens of different types of plastics are produced today, such as polyethylene, which is widely used in product packaging, and polyvinyl chloride (PVC), used in construction and pipes because of its strength and durability. Many chemists have contributed to the materials science of plastics, including Nobel laureate Hermann Staudinger, who has been called \"the father of polymer chemistry,\" and Herman Mark, known as \"the father of polymer physics\".\n",
      "\n",
      "Degradable plastics\n",
      "Oxo-degradable plastics:[2] these are petroleum-based plastics with additives such as transition metals and metals salts that promote the process of fragmentation of the plastic when exposed to a particular environment, such as high temperature or oxygen rich one, for a prolonged period of time. Fragmentation exposes a larger surface area of the plastic to colonies of bacteria that eventually decompose the polymer into its lower energy state components: carbon dioxide and water.\n",
      "\n",
      "Some aspects to take into account regarding this method to dispose of end-of-life plastics are:\n",
      "\n",
      "The type of polymer: experiments conducted by Chiellini et al. confirmed that bacteria are only able to decompose low molecular weight polymers (at least at a rate that can be appreciated).[3]\n",
      "Environmental conditions: the time for fragmentation/degradation varies according to conditions which aren't always controllable.\n",
      "Material's potential to be recycled: this characteristic will be compromised, since the polymer's durability or strength will be affected by the additives that accelerate fragmentation.\n",
      "Classifying a polymer as bio-degradable requires specifications regarding these aspects.\n",
      "\n",
      "Important economic aspects that need to be considered when disposing of degradable polymers include:\n",
      "\n",
      "Waste landfill costs:[4] if plastics represent a significant percentage of waste in a particular region, manufacturing plastics with bio-degradable properties may be more profitable and ecologically friendly than merely disposing of a non-degradable plastic.[5] By using degradable polymers, costs due to waste transportation, landfill maintenance, new landfill excavation and environmental hazard control can be avoided.\n",
      "Lost end-of-life plastic potential:[5] processes such as energy recovery of the plastic by incineration or biological treatment and material recovery by recycling have to be taken into account when assessing the feasibility of manufacturing degradable polymers.\n",
      "Reusable plastic containers\n",
      "Main article: Reusable packaging\n",
      "The implementation of reusable plastic containers arises as a consequence of concerns with sustainability and environmental impact. Use of recyclable plastic packages is beneficial environmentally but is more expensive.[6] The adoption of reusable plastic containers will amount to an approximate annual increase of 0.058 euros/kg of delivered goods.[6] The cost associated with reusable plastic containers are packaging purchasing costs, transportation costs, labor/handling costs, management costs, and costs resulting from losses.[6] Packaging purchasing costs encompasses the cost of the containers as well as any associated service costs. This cost is reoccurring but is only relevant once every 50 cycles, which is the typical lifetime of reusable plastic containers. One cycle consists of the initial stages of processing plastic containers all the way to the use and recycling of these containers by the consumers. Transportation costs are slightly higher for reusable plastic containers as compared to traditional use and throwaway plastic containers in that these reusable containers need additional transportation to recycling facilities. Reusable plastic containers also require work loading and unloading from trucks as well as quality inspection, this adds additional labor costs.[6] Management costs exists because reusable plastic container stock count needs to be managed. The final cost of reusable plastic containers is the cost incurred when packages are lost or there are errors within the management system.[6] Figure 2 provides a detailed summary of the costs associated with adopting reusable plastic containers.\n",
      "\n",
      "Incineration of plastics\n",
      "Recycling plastics presents the difficulty of handling mixed plastics, as unmixed plastics are usually necessary to maintain desirable properties. Mixing many plastics results in diminished material properties, with even just a few percent of polypropylene mixed with polyethylene producing a plastic with significantly reduced tensile strength.[7] An alternative to recycling of these plastics and those which can't be easily recycled such as thermosets is to use degradation to break the polymers down into monomers of low molecular weight. The products of this process can be used to make high quality polymers however energy stored in the polymer bonds is lost during this process.[7]\n",
      "\n",
      "An alternative to economically dispose of plastics is to burn them in an incinerator. Incinerators capable of cleanly burning polymers exist and while they require significant capital investment, the energy produced offsets the economic impact.[8] Since most plastics are produced from petroleum, their molecules consist exclusively or primarily of carbon, oxygen, and hydrogen atoms. With proper design, an incinerator can completely combust these plastics allowing the recovery of energy stored in the original petroleum feedstock which would otherwise escape during processes such as degradation. Some polymers contain chlorine or nitrogen which can result in undesirable combustion products however the use of scrubbers can remove such products. The end result is that many polymers burn more cleanly than coal and as clean as most oils.[7]\n",
      "\n",
      "Tamanho do token vector: torch.Size([1, 1538])\n"
     ]
    }
   ],
   "source": [
    "# Primeiro texto muito longo\n",
    "texto1 = \"\"\"\n",
    "Plastics are a wide range of synthetic or semi-synthetic materials that use polymers as a main ingredient. Their plasticity makes it possible for plastics to be moulded, extruded or pressed into solid objects of various shapes. This adaptability, plus a wide range of other properties, such as being lightweight, durable, flexible, and inexpensive to produce, has led to its widespread use. Plastics typically are made through human industrial systems. Most modern plastics are derived from fossil fuel-based chemicals like natural gas or petroleum; however, recent industrial methods use variants made from renewable materials, such as corn or cotton derivatives.[1]\n",
    "\n",
    "9.2 billion tonnes of plastic are estimated to have been made between 1950 and 2017. More than half this plastic has been produced since 2004. In 2020, 400 million tonnes of plastic were produced.[2] If global trends on plastic demand continue, it is estimated that by 2050 annual global plastic production will reach over 1,100 million tonnes.\n",
    "\n",
    "The success and dominance of plastics starting in the early 20th century has caused widespread environmental problems,[3] due to their slow decomposition rate in natural ecosystems. Most plastic produced has not been reused, either being captured in landfills or persisting in the environment as plastic pollution. Plastic pollution can be found in all the world's major water bodies, for example, creating garbage patches in all of the world's oceans and contaminating terrestrial ecosystems. Of all the plastic discarded so far, some 14 \\% has been incinerated and less than 10\\% has been recycled.[2]\n",
    "\n",
    "In developed economies, about a third of plastic is used in packaging and roughly the same in buildings in applications such as piping, plumbing or vinyl siding.[4] Other uses include automobiles (up to 20% plastic[4]), furniture, and toys.[4] In the developing world, the applications of plastic may differ; 42\\% of India's consumption is used in packaging.[4] In the medical field, polymer implants and other medical devices are derived at least partially from plastic. Worldwide, about 50 kg of plastic is produced annually per person, with production doubling every ten years.\n",
    "\n",
    "The world's first fully synthetic plastic was Bakelite, invented in New York in 1907, by Leo Baekeland,[5] who coined the term \"plastics\".[6] Dozens of different types of plastics are produced today, such as polyethylene, which is widely used in product packaging, and polyvinyl chloride (PVC), used in construction and pipes because of its strength and durability. Many chemists have contributed to the materials science of plastics, including Nobel laureate Hermann Staudinger, who has been called \"the father of polymer chemistry,\" and Herman Mark, known as \"the father of polymer physics\".\n",
    "\n",
    "Degradable plastics\n",
    "Oxo-degradable plastics:[2] these are petroleum-based plastics with additives such as transition metals and metals salts that promote the process of fragmentation of the plastic when exposed to a particular environment, such as high temperature or oxygen rich one, for a prolonged period of time. Fragmentation exposes a larger surface area of the plastic to colonies of bacteria that eventually decompose the polymer into its lower energy state components: carbon dioxide and water.\n",
    "\n",
    "Some aspects to take into account regarding this method to dispose of end-of-life plastics are:\n",
    "\n",
    "The type of polymer: experiments conducted by Chiellini et al. confirmed that bacteria are only able to decompose low molecular weight polymers (at least at a rate that can be appreciated).[3]\n",
    "Environmental conditions: the time for fragmentation/degradation varies according to conditions which aren't always controllable.\n",
    "Material's potential to be recycled: this characteristic will be compromised, since the polymer's durability or strength will be affected by the additives that accelerate fragmentation.\n",
    "Classifying a polymer as bio-degradable requires specifications regarding these aspects.\n",
    "\n",
    "Important economic aspects that need to be considered when disposing of degradable polymers include:\n",
    "\n",
    "Waste landfill costs:[4] if plastics represent a significant percentage of waste in a particular region, manufacturing plastics with bio-degradable properties may be more profitable and ecologically friendly than merely disposing of a non-degradable plastic.[5] By using degradable polymers, costs due to waste transportation, landfill maintenance, new landfill excavation and environmental hazard control can be avoided.\n",
    "Lost end-of-life plastic potential:[5] processes such as energy recovery of the plastic by incineration or biological treatment and material recovery by recycling have to be taken into account when assessing the feasibility of manufacturing degradable polymers.\n",
    "Reusable plastic containers\n",
    "Main article: Reusable packaging\n",
    "The implementation of reusable plastic containers arises as a consequence of concerns with sustainability and environmental impact. Use of recyclable plastic packages is beneficial environmentally but is more expensive.[6] The adoption of reusable plastic containers will amount to an approximate annual increase of 0.058 euros/kg of delivered goods.[6] The cost associated with reusable plastic containers are packaging purchasing costs, transportation costs, labor/handling costs, management costs, and costs resulting from losses.[6] Packaging purchasing costs encompasses the cost of the containers as well as any associated service costs. This cost is reoccurring but is only relevant once every 50 cycles, which is the typical lifetime of reusable plastic containers. One cycle consists of the initial stages of processing plastic containers all the way to the use and recycling of these containers by the consumers. Transportation costs are slightly higher for reusable plastic containers as compared to traditional use and throwaway plastic containers in that these reusable containers need additional transportation to recycling facilities. Reusable plastic containers also require work loading and unloading from trucks as well as quality inspection, this adds additional labor costs.[6] Management costs exists because reusable plastic container stock count needs to be managed. The final cost of reusable plastic containers is the cost incurred when packages are lost or there are errors within the management system.[6] Figure 2 provides a detailed summary of the costs associated with adopting reusable plastic containers.\n",
    "\n",
    "Incineration of plastics\n",
    "Recycling plastics presents the difficulty of handling mixed plastics, as unmixed plastics are usually necessary to maintain desirable properties. Mixing many plastics results in diminished material properties, with even just a few percent of polypropylene mixed with polyethylene producing a plastic with significantly reduced tensile strength.[7] An alternative to recycling of these plastics and those which can't be easily recycled such as thermosets is to use degradation to break the polymers down into monomers of low molecular weight. The products of this process can be used to make high quality polymers however energy stored in the polymer bonds is lost during this process.[7]\n",
    "\n",
    "An alternative to economically dispose of plastics is to burn them in an incinerator. Incinerators capable of cleanly burning polymers exist and while they require significant capital investment, the energy produced offsets the economic impact.[8] Since most plastics are produced from petroleum, their molecules consist exclusively or primarily of carbon, oxygen, and hydrogen atoms. With proper design, an incinerator can completely combust these plastics allowing the recovery of energy stored in the original petroleum feedstock which would otherwise escape during processes such as degradation. Some polymers contain chlorine or nitrogen which can result in undesirable combustion products however the use of scrubbers can remove such products. The end result is that many polymers burn more cleanly than coal and as clean as most oils.[7]\n",
    "\"\"\"\n",
    "\n",
    "# verifica o tamanho\n",
    "print(f\"Tamanho do texto: {texto1}\")\n",
    "\n",
    "# Obtém os embeddings dos textos\n",
    "embedding1 = get_embedding(texto1)"
   ]
  },
  {
   "cell_type": "code",
   "execution_count": 6,
   "metadata": {},
   "outputs": [
    {
     "name": "stdout",
     "output_type": "stream",
     "text": [
      "Tamanho do texto: \n",
      "I love tupperwares.\n",
      "\n",
      "Tamanho do token vector: torch.Size([1, 11])\n"
     ]
    }
   ],
   "source": [
    "texto2 = \"\"\"\n",
    "I love tupperwares.\n",
    "\"\"\"\n",
    "\n",
    "# verifica o tamanho\n",
    "print(f\"Tamanho do texto: {texto2}\")\n",
    "\n",
    "# Obtém os embeddings dos textos\n",
    "embedding2 = get_embedding(texto2)"
   ]
  },
  {
   "cell_type": "code",
   "execution_count": 7,
   "metadata": {},
   "outputs": [
    {
     "data": {
      "text/plain": [
       "(torch.Size([768]), torch.Size([768]))"
      ]
     },
     "execution_count": 7,
     "metadata": {},
     "output_type": "execute_result"
    }
   ],
   "source": [
    "# Tamanho dos embedding vectors\n",
    "embedding1.shape, embedding2.shape"
   ]
  },
  {
   "cell_type": "code",
   "execution_count": 8,
   "metadata": {},
   "outputs": [
    {
     "data": {
      "text/plain": [
       "tensor(0.8755, grad_fn=<SumBackward1>)"
      ]
     },
     "execution_count": 8,
     "metadata": {},
     "output_type": "execute_result"
    }
   ],
   "source": [
    "# Calcula a similaridade entre os textos\n",
    "calculate_similarity(embedding1, embedding2)"
   ]
  },
  {
   "cell_type": "code",
   "execution_count": null,
   "metadata": {},
   "outputs": [],
   "source": []
  }
 ],
 "metadata": {
  "kernelspec": {
   "display_name": "base",
   "language": "python",
   "name": "python3"
  },
  "language_info": {
   "codemirror_mode": {
    "name": "ipython",
    "version": 3
   },
   "file_extension": ".py",
   "mimetype": "text/x-python",
   "name": "python",
   "nbconvert_exporter": "python",
   "pygments_lexer": "ipython3",
   "version": "3.8.10"
  },
  "orig_nbformat": 4
 },
 "nbformat": 4,
 "nbformat_minor": 2
}
