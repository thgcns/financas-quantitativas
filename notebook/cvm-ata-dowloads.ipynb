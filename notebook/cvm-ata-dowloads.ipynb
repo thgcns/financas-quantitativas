{
 "cells": [
  {
   "attachments": {},
   "cell_type": "markdown",
   "metadata": {},
   "source": [
    "## Bibliotecas e variáveis"
   ]
  },
  {
   "cell_type": "code",
   "execution_count": 93,
   "metadata": {},
   "outputs": [],
   "source": [
    "import pandas as pd\n",
    "import io\n",
    "import requests\n",
    "import zipfile\n",
    "import pandas as pd\n",
    "import re\n",
    "from pathlib import Path\n",
    "import os\n",
    "\n",
    "\n",
    "root = os.path.dirname(\"C:\\\\Users\\\\thgcn\\\\OneDrive\\\\Academico\\\\Mestrado - NLP - Finance\\\\datasets\\\\\")\n",
    "\n",
    "levelone = ['10456', '24600', '906', '1210', '1325', '21199', '18724', '4820', '2437', '2453', '3069', '3077', '18376', '16632', '5770', '6211', '3980', '8672', '19348', '7617', '8656', '11312', '14109', '14320']\n",
    "\n"
   ]
  },
  {
   "attachments": {},
   "cell_type": "markdown",
   "metadata": {},
   "source": [
    "## Funções"
   ]
  },
  {
   "cell_type": "code",
   "execution_count": null,
   "metadata": {},
   "outputs": [],
   "source": [
    "\n",
    "\n",
    "# Função para download da relação de todos os links\n",
    "def busca_ipe(year):\n",
    "    url = ('https://dados.cvm.gov.br/dados/CIA_ABERTA/DOC/IPE/DADOS/ipe_cia_aberta_%d.zip' %(ano))\n",
    "    file = ('ipe_cia_aberta_%d.zip' %(ano))    \n",
    "    r = requests.get(url)\n",
    "    zf = zipfile.ZipFile(io.BytesIO(r.content))   \n",
    "    file = zf.namelist()  \n",
    "    zf = zf.open(file[0])\n",
    "    lines = zf.readlines()\n",
    "    lines=[i.strip().decode('ISO-8859-1') for i in lines] \n",
    "    lines=[i.split(';') for i in lines]\n",
    "    qtl = len(lines)   \n",
    "    return lines\n",
    "\n",
    "# Função para busca de um item específico\n",
    "def search (lista, valor):\n",
    "    return [(lista[lista.index(x)]) for x in lista if valor in x]\n",
    "\n",
    "# Função para baixar o arquivivo específico\n",
    "def baixar_arquivo(url, endereco):\n",
    "    resposta = requests.get(url, allow_redirects=True, verify=False, stream=True)\n",
    "    if resposta.status_code == requests.codes.OK:\n",
    "        with open(endereco, 'wb') as novo_arquivo:\n",
    "                novo_arquivo.write(resposta.content)\n",
    "        print(\"Download finalizado. Arquivo salvo em: {}\".format(endereco))\n",
    "    else:\n",
    "        resposta.raise_for_status()\n",
    "def download_ata(year):    \n",
    "    lines = busca_ipe(year) \n",
    "    age = search(lines,\"Dados Econômico-Financeiros\")    \n",
    "    year = year\n",
    "    for a in range(len(age)):    \n",
    "     if(print(age[a][2]) in levelone):\n",
    "       sufix = re.sub(u'[^a-zA-Z0-9]','_',age[a][2]+\"_\"+age[a][1])\n",
    "       category = re.sub(u'[^a-zA-Z0-9ãçàá]','_',age[a][])\n",
    "       print(sufix)\n",
    "       company = os.path.join(root + \"\\\\%s\"%(sufix))\n",
    "       print(company)\n",
    "       if not Path(root + \"\\\\%s\"%(sufix)).is_dir():\n",
    "            print(\"nao existe\")\n",
    "            os.makedirs(root + \"\\\\%s\"%(sufix))\n",
    "       if not Path(company +\"\\\\%d\"%(year)).is_dir():\n",
    "            print(\"nao existe\")\n",
    "            os.makedirs(company + \"\\\\%d\"%(year))\n",
    "       diryear = os.path.join(company + \"\\\\%d\"%(year))\n",
    "       if not Path(diryear +\"\\\\%s\"%(category)).is_dir():\n",
    "            print(\"nao existe\")\n",
    "            os.makedirs(diryear + \"\\\\%s\"%(category))\n",
    "       dircategory = os.path.join(diryear + \"\\\\%s\"%(category))\n",
    "       url = age[a][12]       \n",
    "       nome = re.sub(u'[^a-zA-Z0-9]', '_', age[a][2]+\"_\"+age[a][1]+\"_\"+age[a][7][1:100]+\"_\"+age[a][8])[1:100]       \n",
    "       baixar_arquivo(url, dircategory+\"\\\\%s.pdf\"%(nome))\n"
   ]
  },
  {
   "attachments": {},
   "cell_type": "markdown",
   "metadata": {},
   "source": [
    "## Chamada do programa principal"
   ]
  },
  {
   "cell_type": "code",
   "execution_count": null,
   "metadata": {},
   "outputs": [],
   "source": [
    "# Para cada chamada é necessário passar um determinado ano.\n",
    "download_ata(2022)\n",
    "download_ata(2021)\n",
    "download_ata(2020)\n",
    "download_ata(2019)"
   ]
  }
 ],
 "metadata": {
  "kernelspec": {
   "display_name": "base",
   "language": "python",
   "name": "python3"
  },
  "language_info": {
   "codemirror_mode": {
    "name": "ipython",
    "version": 3
   },
   "file_extension": ".py",
   "mimetype": "text/x-python",
   "name": "python",
   "nbconvert_exporter": "python",
   "pygments_lexer": "ipython3",
   "version": "3.8.5"
  },
  "vscode": {
   "interpreter": {
    "hash": "989737d3855d0a637858ee41074a57c7c0383cd1176ad90749af95daf95c7f81"
   }
  }
 },
 "nbformat": 4,
 "nbformat_minor": 4
}
