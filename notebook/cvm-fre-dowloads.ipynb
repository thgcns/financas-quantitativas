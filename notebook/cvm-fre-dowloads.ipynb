{
 "cells": [
  {
   "cell_type": "code",
   "execution_count": null,
   "metadata": {},
   "outputs": [],
   "source": [
    "import pandas as pd\n",
    "import io\n",
    "import requests\n",
    "import zipfile\n",
    "import pandas as pd\n",
    "import re\n",
    "from pathlib import Path\n",
    "import os\n",
    "import wget\n",
    "\n",
    "\n",
    "#variables for loading\n",
    "root = os.path.dirname(\"C:\\\\Users\\\\thgcn\\\\OneDrive\\\\Academico\\\\Mestrado - NLP - Finance\\\\datasets\\\\\")\n",
    "\n",
    "#Level one B3, CVM code\n",
    "levelone = ['010456', '024600', '000906', '001210', '001325', '021199', '018724', '004820', '002437', '002453', '003069', '003077', '018376', '016632', '005770', '006211', '003980', '008672', '019348', '007617', '008656', '011312', '014109', '014320']\n",
    "\n",
    "\n",
    "\n",
    "#functions\n",
    "def busca_fre(ano):\n",
    "    url = ('https://dados.cvm.gov.br/dados/CIA_ABERTA/DOC/FRE/DADOS/fre_cia_aberta_%d.zip' %(ano))\n",
    "    file = ('fre_cia_aberta_%d.zip' %(ano))    \n",
    "    r = requests.get(url)\n",
    "    zf = zipfile.ZipFile(io.BytesIO(r.content))   \n",
    "    file = zf.namelist()  \n",
    "    zf = zf.open(file[0])\n",
    "    lines = zf.readlines()\n",
    "    lines=[i.strip().decode('ISO-8859-1') for i in lines] \n",
    "    lines=[i.split(';') for i in lines]\n",
    "    qtl = len(lines)\n",
    "    #return pd.DataFrame(lines[1:], columns=lines[0])  \n",
    "    return lines\n",
    "\n",
    "\n",
    "def baixar_arquivo(url, endereco):\n",
    "    resposta = requests.get(url, allow_redirects=True, verify=False, stream=True)\n",
    "    #zf = zipfile.ZipFile(io.BytesIO(resposta.content))      \n",
    "    if resposta.status_code == requests.codes.OK:\n",
    "        file = zipfile.ZipFile(io.BytesIO(resposta.content))\n",
    "        file.extractall(endereco)\n",
    "        print(\"Download finalizado. Arquivo salvo em: {}\".format(endereco))\n",
    "    else:\n",
    "        resposta.raise_for_status()\n",
    "       \n",
    "\n",
    "def main(year):\n",
    "    #pega information\n",
    "    lines = busca_fre(year)\n",
    "    #Searches for Ata\n",
    "    #defi = search(lines,\"Dados Econômico-Financeiros\")\n",
    "    #search for url for download\n",
    "    year = year\n",
    "    for a in range(len(lines)):\n",
    "    #for a in range(5):\n",
    "     if lines[a][4] in levelone:\n",
    "       sufix = re.sub(u'[^a-zA-Z0-9]','_',lines[a][4]+\"_\"+lines[a][3])\n",
    "       category = re.sub(u'[^a-zA-Z0-9çãàáêéíõóú]','_',lines[a][5])\n",
    "       version = re.sub(u'[^0-9]','',lines[a][2])\n",
    "       print(sufix)\n",
    "       company = os.path.join(root + \"\\\\%s\"%(sufix))\n",
    "       print(company)\n",
    "       if not Path(root + \"\\\\%s\"%(sufix)).is_dir():\n",
    "            print(\"nao existe\")\n",
    "            os.makedirs(root + \"\\\\%s\"%(sufix))\n",
    "       if not Path(company +\"\\\\%d\"%(year)).is_dir():\n",
    "            print(\"nao existe\")\n",
    "            os.makedirs(company + \"\\\\%d\"%(year))\n",
    "       diryear = os.path.join(company + \"\\\\%d\"%(year))\n",
    "       if not Path(diryear +\"\\\\%s\"%(category)).is_dir():\n",
    "            print(\"nao existe\")\n",
    "            os.makedirs(diryear + \"\\\\%s\"%(category))\n",
    "       dircategory = os.path.join(diryear + \"\\\\%s\"%(category))\n",
    "       url = lines[a][8]\n",
    "       #choose a name for download\n",
    "       nome = re.sub(u'[^a-zA-Z0-9]', '_', lines[a][3]+\"_ID\"+lines[a][6]+\"_\"+lines[a][5]+\"_vers.\"+lines[a][2])[1:150]\n",
    "       #download file \n",
    "       baixar_arquivo(url, dircategory)\n"
   ]
  },
  {
   "cell_type": "code",
   "execution_count": null,
   "metadata": {},
   "outputs": [],
   "source": [
    "print(sufix, category, version, company, url, diryear, \n",
    "      \n",
    "      company, nome)"
   ]
  },
  {
   "cell_type": "code",
   "execution_count": null,
   "metadata": {},
   "outputs": [],
   "source": [
    "main(2021)"
   ]
  },
  {
   "cell_type": "code",
   "execution_count": null,
   "metadata": {},
   "outputs": [],
   "source": [
    "lines = busca_fre(2020)"
   ]
  },
  {
   "cell_type": "code",
   "execution_count": 1,
   "metadata": {},
   "outputs": [],
   "source": [
    "import time\n",
    "def baixar_arquivo(url, endereco):\n",
    "    headers = {\n",
    "    \"Accept-Encoding\": \"*\",\n",
    "    \"Connection\": \"keep-alive\"\n",
    "    }\n",
    "    try: \n",
    "        resposta = requests.get(url, headers=headers, allow_redirects=True, verify=False, stream=True)\n",
    "        #zf = zipfile.ZipFile(io.BytesIO(resposta.content))      \n",
    "        if resposta.status_code == requests.codes.OK:\n",
    "            file = zipfile.ZipFile(io.BytesIO(resposta.content))\n",
    "            file.extractall(endereco)\n",
    "            print(\"Download finalizado. Arquivo salvo em: {}\".format(endereco))\n",
    "        else:\n",
    "            resposta.raise_for_status()\n",
    "    except:\n",
    "        time.sleep(30)\n",
    "        resposta = requests.get(url, headers=headers, allow_redirects=True, verify=False, stream=True)\n",
    "        #zf = zipfile.ZipFile(io.BytesIO(resposta.content))      \n",
    "        if resposta.status_code == requests.codes.OK:\n",
    "            file = zipfile.ZipFile(io.BytesIO(resposta.content))\n",
    "            file.extractall(endereco)\n",
    "            print(\"Download finalizado. Arquivo salvo em: {}\".format(endereco))\n",
    "        else:\n",
    "            resposta.raise_for_status()\n"
   ]
  },
  {
   "cell_type": "code",
   "execution_count": null,
   "metadata": {},
   "outputs": [],
   "source": [
    "baixar_arquivo"
   ]
  }
 ],
 "metadata": {
  "kernelspec": {
   "display_name": "base",
   "language": "python",
   "name": "python3"
  },
  "language_info": {
   "codemirror_mode": {
    "name": "ipython",
    "version": 3
   },
   "file_extension": ".py",
   "mimetype": "text/x-python",
   "name": "python",
   "nbconvert_exporter": "python",
   "pygments_lexer": "ipython3",
   "version": "3.8.5"
  },
  "orig_nbformat": 4,
  "vscode": {
   "interpreter": {
    "hash": "989737d3855d0a637858ee41074a57c7c0383cd1176ad90749af95daf95c7f81"
   }
  }
 },
 "nbformat": 4,
 "nbformat_minor": 2
}
