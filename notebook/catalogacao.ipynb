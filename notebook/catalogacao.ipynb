{
 "cells": [
  {
   "attachments": {},
   "cell_type": "markdown",
   "metadata": {},
   "source": [
    "### Incializando o solr:"
   ]
  },
  {
   "cell_type": "code",
   "execution_count": 65,
   "metadata": {},
   "outputs": [
    {
     "data": {
      "text/plain": [
       "CompletedProcess(args='C:\\\\Users\\\\thgcn\\\\OneDrive\\\\Academico\\\\PO-245\\\\Projeto\\\\solr-9.2.1\\\\bin\\\\solr -c -z localhost:9983 -p 8984', returncode=1)"
      ]
     },
     "execution_count": 65,
     "metadata": {},
     "output_type": "execute_result"
    }
   ],
   "source": [
    "import subprocess\n",
    "\n",
    "# Comando que você deseja executar\n",
    "command = 'C:\\\\Users\\\\thgcn\\\\OneDrive\\\\Academico\\\\PO-245\\\\Projeto\\\\solr-9.2.1\\\\bin\\\\solr restart -port 8983'\n",
    "command2 = 'C:\\\\Users\\\\thgcn\\\\OneDrive\\\\Academico\\\\PO-245\\\\Projeto\\\\solr-9.2.1\\\\bin\\\\solr -c -z localhost:9983 -p 8984'\n",
    "\n",
    "# Executa o comando no terminal\n",
    "subprocess.run(command, shell=True)\n",
    "subprocess.run(command2, shell=True)\n"
   ]
  },
  {
   "attachments": {},
   "cell_type": "markdown",
   "metadata": {},
   "source": [
    "### Criando uma coleção e adcionando os campos para catalogação"
   ]
  },
  {
   "cell_type": "code",
   "execution_count": 42,
   "metadata": {},
   "outputs": [
    {
     "name": "stdout",
     "output_type": "stream",
     "text": [
      "Esquema atualizado com sucesso.\n"
     ]
    }
   ],
   "source": [
    "import os\n",
    "import requests\n",
    "\n",
    "# Caminho para o diretório bin do Solr\n",
    "solr_bin_path = 'C:\\\\Users\\\\thgcn\\\\OneDrive\\\\Academico\\\\PO-245\\\\Projeto\\\\solr-9.2.1\\\\bin\\\\'\n",
    "\n",
    "# Comando para criar a coleção no modo standalone\n",
    "command = 'solr create_collection -c relatoriosfinanceiros -s 2 -rf 2'\n",
    "\n",
    "# Mude para o diretório bin do Solr\n",
    "os.chdir(solr_bin_path)\n",
    "\n",
    "# Execute o comando no terminal\n",
    "os.system(command)\n",
    "\n",
    "# Após a criação do seleção, é atualizado os campos que serão atualizados durante a catalogação:\n",
    "\n",
    "import requests\n",
    "\n",
    "# URL do endpoint Solr\n",
    "url = 'http://localhost:8983/api/cores/relatoriosfinanceiros/schema'\n",
    "\n",
    "# Cabeçalhos da solicitação POST\n",
    "headers = {\n",
    "    'Content-Type': 'application/json'\n",
    "}\n",
    "\n",
    "# Corpo da solicitação POST\n",
    "data = {\n",
    "    \"add-field\": [\n",
    "        {\"name\": \"report_id\", \"type\": \"string\"},\n",
    "        {\"name\": \"title\", \"type\": \"text_general\", \"multiValued\": False},\n",
    "        {\"name\": \"company_name\", \"type\": \"text_general\", \"multiValued\": False},\n",
    "        {\"name\": \"cod_cvm\", \"type\": \"text_general\", \"multiValued\": False},\n",
    "        {\"name\": \"year\", \"type\": \"pint\"},\n",
    "        {\"name\": \"date\", \"type\": \"pdate\"},\n",
    "        {\"name\": \"content\", \"type\": \"text_general\", \"multiValued\": True},\n",
    "        {\"name\": \"keywords\", \"type\": \"text_general\", \"multiValued\": True},\n",
    "        {\"name\": \"size\", \"type\": \"text_general\", \"multiValued\": True},\n",
    "        {\"name\": \"tensor\", \"type\": \"text_general\",\"multiValued\": True}\n",
    "    ]\n",
    "}\n",
    "\n",
    "# Enviar solicitação POST para atualizar o esquema no Solr\n",
    "response = requests.post(url, json=data, headers=headers)\n",
    "\n",
    "if response.status_code == 200:\n",
    "    print(\"Esquema atualizado com sucesso.\")\n",
    "else:\n",
    "    print(\"Falha ao atualizar o esquema. Status:\", response.status_code)\n"
   ]
  },
  {
   "attachments": {},
   "cell_type": "markdown",
   "metadata": {},
   "source": [
    "### Catalotação de relatórios"
   ]
  },
  {
   "cell_type": "code",
   "execution_count": 43,
   "metadata": {},
   "outputs": [
    {
     "name": "stdout",
     "output_type": "stream",
     "text": [
      "Sucesso ao enviar o arquivo PDF C:\\Users\\thgcn\\OneDrive\\Academico\\PO-245\\Projeto\\financas-quantitativas\\datasets\\19348_ITAU_UNIBANCO_HOLDING_S_A\\2022\\Demonstrações_Financeiras_em_Padrões_Internacionais\\9348_ITA__UNIBANCO_HOLDING_S_A__ers_o_em_Ingl_s_2022_02_10.pdf\n",
      "Sucesso ao enviar o arquivo PDF C:\\Users\\thgcn\\OneDrive\\Academico\\PO-245\\Projeto\\financas-quantitativas\\datasets\\19348_ITAU_UNIBANCO_HOLDING_S_A\\2022\\Demonstrações_Financeiras_em_Padrões_Internacionais\\9348_ITA__UNIBANCO_HOLDING_S_A__ers_o_em_Ingl_s_2022_08_08.pdf\n",
      "Sucesso ao enviar o arquivo PDF C:\\Users\\thgcn\\OneDrive\\Academico\\PO-245\\Projeto\\financas-quantitativas\\datasets\\19348_ITAU_UNIBANCO_HOLDING_S_A\\2022\\Demonstrações_Financeiras_em_Padrões_Internacionais\\9348_ITA__UNIBANCO_HOLDING_S_A__ers_o_em_Portugu_s_2022_02_10.pdf\n",
      "Sucesso ao enviar o arquivo PDF C:\\Users\\thgcn\\OneDrive\\Academico\\PO-245\\Projeto\\financas-quantitativas\\datasets\\19348_ITAU_UNIBANCO_HOLDING_S_A\\2022\\Demonstrações_Financeiras_em_Padrões_Internacionais\\9348_ITA__UNIBANCO_HOLDING_S_A__ers_o_em_Portugu_s_2022_08_08.pdf\n",
      "Sucesso ao enviar o arquivo PDF C:\\Users\\thgcn\\OneDrive\\Academico\\PO-245\\Projeto\\financas-quantitativas\\datasets\\19348_ITAU_UNIBANCO_HOLDING_S_A\\2022\\Demonstrações_Financeiras_em_Padrões_Internacionais\\9348_ITA__UNIBANCO_HOLDING_S_A___2022_05_09.pdf\n"
     ]
    }
   ],
   "source": [
    "import requests\n",
    "import glob\n",
    "from io import BytesIO\n",
    "from PyPDF2 import PdfFileReader\n",
    "import json\n",
    "\n",
    "# URL do endpoint Solr\n",
    "url = 'http://localhost:8983/solr/relatorios/update/json/docs'\n",
    "\n",
    "# Parâmetros da solicitação POST\n",
    "params = {\n",
    "    'commit': 'true'\n",
    "}\n",
    "\n",
    "# Percorra os arquivos PDF no diretório\n",
    "files = glob.glob('C:\\\\Users\\\\thgcn\\\\OneDrive\\\\Academico\\\\PO-245\\\\Projeto\\\\financas-quantitativas\\\\datasets\\\\19348_ITAU_UNIBANCO_HOLDING_S_A\\\\2022\\\\Demonstrações_Financeiras_em_Padrões_Internacionais\\\\*.pdf')\n",
    "\n",
    "# Enviar solicitação POST para cada arquivo PDF\n",
    "for file in files:\n",
    "    with open(file, 'rb') as f:\n",
    "        pdf_content = f.read()\n",
    "\n",
    "        # Converter o conteúdo PDF em texto\n",
    "        pdf = PdfFileReader(BytesIO(pdf_content))\n",
    "        text = ''\n",
    "        for page_num in range(pdf.getNumPages()):\n",
    "            page = pdf.getPage(page_num)\n",
    "            text += page.extract_text()\n",
    "\n",
    "        # Criar um documento JSON com o texto extraído\n",
    "        document = {\n",
    "            'text': text\n",
    "        }\n",
    "\n",
    "        # Converter o documento para uma string JSON\n",
    "        json_document = json.dumps(document)\n",
    "\n",
    "        # Enviar solicitação POST para o Solr\n",
    "        response = requests.post(url, params=params, data=json_document.encode('utf-8'), headers={'Content-type': 'application/json'})\n",
    "\n",
    "        if response.status_code == 200:\n",
    "            print(f'Sucesso ao enviar o arquivo PDF {file}')\n",
    "        else:\n",
    "            print(f'Falha ao enviar o arquivo PDF {file}. Status:', response.status_code)\n"
   ]
  },
  {
   "cell_type": "code",
   "execution_count": 67,
   "metadata": {},
   "outputs": [
    {
     "name": "stdout",
     "output_type": "stream",
     "text": [
      "Falha ao consultar o Solr. Status: 400\n"
     ]
    }
   ],
   "source": [
    "import requests\n",
    "\n",
    "def search_name(name):\n",
    "    # URL do endpoint Solr\n",
    "    url = 'http://localhost:8983/solr/relatorios/select'\n",
    "\n",
    "    # Parâmetros da consulta\n",
    "    params = {\n",
    "        'q': f'name:{name}'\n",
    "    }\n",
    "\n",
    "    # Enviar solicitação GET para o Solr\n",
    "    response = requests.get(url, params=params)\n",
    "\n",
    "    if response.status_code == 200:\n",
    "        # Processar os resultados da consulta\n",
    "        data = response.json()\n",
    "        # Faça algo com os resultados aqui\n",
    "        print(data)\n",
    "    else:\n",
    "        print('Falha ao consultar o Solr. Status:', response.status_code)\n",
    "\n",
    "# Exemplo de uso da função\n",
    "search_name('itau')\n"
   ]
  },
  {
   "cell_type": "code",
   "execution_count": 62,
   "metadata": {},
   "outputs": [
    {
     "name": "stdout",
     "output_type": "stream",
     "text": [
      "Falha ao consultar o Solr. Status: 400\n"
     ]
    }
   ],
   "source": [
    "def search_name(name):\n",
    "    # URL do endpoint Solr (verifique se está correta, incluindo o nome da coleção)\n",
    "    url = 'http://localhost:8983/solr/relatorios/select'\n",
    "\n",
    "    # Parâmetros da consulta (verifique se o campo e o valor estão corretos)\n",
    "    params = {\n",
    "        'q': f'name:{name}'\n",
    "    }\n",
    "\n",
    "    # Enviar solicitação GET para o Solr\n",
    "    response = requests.get(url, params=params)\n",
    "\n",
    "    if response.status_code == 200:\n",
    "        # Processar os resultados da consulta\n",
    "        data = response.json()\n",
    "        # Faça algo com os resultados aqui\n",
    "        print(data)\n",
    "    else:\n",
    "        print('Falha ao consultar o Solr. Status:', response.status_code)\n",
    "\n",
    "# Exemplo de uso da função\n",
    "search_name('relatorio')\n"
   ]
  }
 ],
 "metadata": {
  "kernelspec": {
   "display_name": "base",
   "language": "python",
   "name": "python3"
  },
  "language_info": {
   "codemirror_mode": {
    "name": "ipython",
    "version": 3
   },
   "file_extension": ".py",
   "mimetype": "text/x-python",
   "name": "python",
   "nbconvert_exporter": "python",
   "pygments_lexer": "ipython3",
   "version": "3.8.5"
  },
  "orig_nbformat": 4
 },
 "nbformat": 4,
 "nbformat_minor": 2
}
